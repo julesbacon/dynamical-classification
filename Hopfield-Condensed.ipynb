{
 "cells": [
  {
   "cell_type": "code",
   "execution_count": 6,
   "metadata": {
    "collapsed": false
   },
   "outputs": [
    {
     "name": "stderr",
     "output_type": "stream",
     "text": [
      "WARNING: Method definition synchupdate!(Array, Array) in module Main at In[4]:6 overwritten at In[6]:6.\n",
      "WARNING: Method definition convertbool(Bool) in module Main at In[4]:14 overwritten at In[6]:13.\n",
      "WARNING: Method definition convertbool2(Bool) in module Main at In[4]:18 overwritten at In[6]:17.\n",
      "WARNING: Method definition setupimage(Any) in module Main at In[4]:24 overwritten at In[6]:23.\n",
      "WARNING: Method definition store(Array) in module Main at In[4]:35 overwritten at In[6]:34.\n",
      "WARNING: Method definition findattractor(Any, Any) in module Main at In[4]:56 overwritten at In[6]:55.\n",
      "WARNING: Method definition addtomemory(Array{T<:Any, 2}, Array{T<:Any, 1}) in module Main at In[4]:75 overwritten at In[6]:74.\n",
      "WARNING: Method definition constructmem(Int64) in module Main at In[4]:80 overwritten at In[6]:79.\n",
      "WARNING: Method definition mod_mem() in module Main at In[4]:90 overwritten at In[6]:89.\n"
     ]
    },
    {
     "data": {
      "text/plain": [
       "mod_mem (generic function with 1 method)"
      ]
     },
     "execution_count": 6,
     "metadata": {},
     "output_type": "execute_result"
    }
   ],
   "source": [
    "#Updates vector S in order according to the\n",
    "#synchronous update rule\n",
    "using MNIST\n",
    "\n",
    "function synchupdate!(W::Array, S::Array)\n",
    "    b = copy(S)\n",
    "    #S = 2*S - 1\n",
    "    S = S.>0\n",
    "    return S\n",
    "end\n",
    "\n",
    "function convertbool(val::Bool)\n",
    "    return (val==true) ? 1 : -1\n",
    "end\n",
    "\n",
    "function convertbool2(val::Bool)\n",
    "    return (val==true) ? 1 : 0\n",
    "end\n",
    "\n",
    "#Takes an image vector containing float values\n",
    "# and returns an image vector of only true and false values\n",
    "function setupimage(image)\n",
    "    a = Bool[]\n",
    "    for j = 1:784\n",
    "        val = image[j] / 256\n",
    "        push!(a, (val > 0.5) ? true : false)\n",
    "    end\n",
    "    push!(a, true)\n",
    "    return a\n",
    "end\n",
    "\n",
    "function store(Xi::Array)\n",
    "    #enforce dimensions of S to be 2\n",
    "    if ndims(Xi) != 2\n",
    "        println(\"Wrong number of dimensions in Xi\")\n",
    "        return\n",
    "    end\n",
    "    nitems = size(Xi, 1)# number of rows, each row one item\n",
    "    N = size(Xi, 2) #number of columns\n",
    "    W = zeros(N, N)\n",
    "    for memoryitem = 1:nitems\n",
    "        for i = 1:N\n",
    "            for j = 1:N\n",
    "                W[i, j] += convertbool(Xi[memoryitem,i]) * convertbool(Xi[memoryitem,j])\n",
    "            end\n",
    "        end\n",
    "    end\n",
    "    for i = 1:N\n",
    "        W[i, i] = 0\n",
    "    end\n",
    "    return W\n",
    "end\n",
    "\n",
    "function findattractor(W, sigma)\n",
    "    finish = false\n",
    "    count = 0\n",
    "    while !finish\n",
    "        if count > 20 * length(sigma)\n",
    "            print(\"failed to converge\")\n",
    "            return sigma\n",
    "        end\n",
    "        count += 1\n",
    "        b = copy(sigma)\n",
    "        sigma = synchupdate!(W, sigma)\n",
    "        if sigma == b\n",
    "            finish = true\n",
    "        end\n",
    "    end\n",
    "    \n",
    "    return sigma\n",
    "end\n",
    "\n",
    "function addtomemory(Mem::Matrix, Sigma::Vector)\n",
    "    Mem = [Mem; Sigma] #Adds Sigma to Mem as its last row\n",
    "    return Mem\n",
    "end\n",
    "\n",
    "function constructmem(n::Int)    #Create a memory matrix from the first n images in the training set   \n",
    "    Mem = Matrix(0, 785)\n",
    "    for i = 1:n\n",
    "        image = setupimage(trainfeatures(i))\n",
    "        image = reshape(image, 1, 785)\n",
    "        Mem = [Mem; image]\n",
    "    end\n",
    "    return Mem     \n",
    "end\n",
    "\n",
    "function mod_mem()\n",
    "    Mem = Matrix(0, 785)\n",
    "    used = []\n",
    "    i = 1\n",
    "    while length(used) < 10 \n",
    "        if !(trainlabel(i) in used)\n",
    "            Mem = [Mem; reshape(setupimage(trainfeatures(i)), 1, 785)]\n",
    "            push!(used, trainlabel(i))\n",
    "        end\n",
    "        i += 1\n",
    "    end\n",
    "    return imageset\n",
    "end\n",
    "\n",
    "#pixel_digits = mod_mem()\n",
    "\n"
   ]
  },
  {
   "cell_type": "code",
   "execution_count": 7,
   "metadata": {
    "collapsed": false
   },
   "outputs": [
    {
     "name": "stderr",
     "output_type": "stream",
     "text": [
      "WARNING: Method definition printattractor(Any) in module Main at In[5]:18 overwritten at In[7]:18.\n"
     ]
    },
    {
     "data": {
      "text/plain": [
       "\"[1 0 1 1 0 1 1 1 1 0 0 1 1 0 1 1 0 1 1 0 0 0 0 1 0 0 0 1 0 0 1 0 0 0 0 0 0 1 1 1 0 1 0 0 1 0 1 1 0 1 1 1 0 1 0 1 1 0 0 1 0 1 1 0 1 0 1 0 0 0 1 0 0 1 1 0 1 0 0 1 1 1 1 1 0 0 1 0 0 0 0 0 1 0 0 1 0 1 1 1 ]\""
      ]
     },
     "execution_count": 7,
     "metadata": {},
     "output_type": "execute_result"
    }
   ],
   "source": [
    "using MAT\n",
    "using MNIST\n",
    "\n",
    "hiddenunits = matopen(\"300codes.mat\")\n",
    "hiddenimages = read(hiddenunits, \"BA_Z\")\n",
    "\n",
    "testvec = hiddenimages[4, :]\n",
    "using Distances\n",
    "W = store(hiddenimages)\n",
    "testvec_copy = copy(testvec)\n",
    "testvec = findattractor(W, testvec)\n",
    "hamming(testvec, testvec_copy)\n",
    "\n",
    "\n",
    "attractor = findattractor(W, hiddenimages[90, :])\n",
    "\n",
    "function printattractor(att)\n",
    "    str = \"[\"\n",
    "    for i = 1:length(att)\n",
    "        if att[i] == false\n",
    "            str = string(str, \"0 \")\n",
    "        else \n",
    "            str = string(str, \"1 \")\n",
    "        end\n",
    "    end\n",
    "    str = string(str, \"]\")\n",
    "end\n",
    "\n",
    "printattractor(findattractor(W, hiddenimages[90, :]))"
   ]
  },
  {
   "cell_type": "code",
   "execution_count": 9,
   "metadata": {
    "collapsed": false
   },
   "outputs": [
    {
     "data": {
      "text/plain": [
       "92"
      ]
     },
     "execution_count": 9,
     "metadata": {},
     "output_type": "execute_result"
    }
   ],
   "source": [
    "#Comparing against the first 120 images in the pixel representation\n",
    "using Gadfly\n",
    "mem = constructmem(120)\n",
    "W = store(mem)\n",
    "using Distances\n",
    "test = mem[5, :]\n",
    "test_copy = copy(test)\n",
    "test = findattractor(W, test)\n",
    "current = hamming(test, test_copy)\n",
    "\n"
   ]
  },
  {
   "cell_type": "code",
   "execution_count": 10,
   "metadata": {
    "collapsed": false
   },
   "outputs": [
    {
     "data": {
      "text/plain": [
       "9.0"
      ]
     },
     "execution_count": 10,
     "metadata": {},
     "output_type": "execute_result"
    }
   ],
   "source": [
    "using MNIST\n",
    "trainlabel(5)\n"
   ]
  },
  {
   "cell_type": "code",
   "execution_count": 53,
   "metadata": {
    "collapsed": false
   },
   "outputs": [
    {
     "name": "stdout",
     "output_type": "stream",
     "text": [
      "0.04.01.09.02.03.06.07.08.00 0 0 0 0 0 0 0 0 0    |    207  178  153  126  60  156  130  204  128  130  "
     ]
    },
    {
     "name": "stderr",
     "output_type": "stream",
     "text": [
      "WARNING: Method definition generate_set(Any) in module Main at In[50]:14 overwritten at In[53]:14.\n",
      "WARNING: Method definition calcprecision(Array) in module Main at In[50]:30 overwritten at In[53]:30.\n",
      "WARNING: Method definition closest(Any, Any) in module Main at In[50]:74 overwritten at In[53]:74.\n"
     ]
    }
   ],
   "source": [
    "\n",
    "using MAT\n",
    "using MNIST\n",
    "\n",
    "hiddenunits = matopen(\"J_with_8.mat\")\n",
    "hiddenimages = read(hiddenunits, \"Jnew\")\n",
    "hiddenunits2 = matopen(\"500codes.mat\")\n",
    "hiddenimages2 = read(hiddenunits2, \"BA_Z1\")\n",
    "hiddenunits3 = matopen(\"700codes.mat\")\n",
    "hiddenimages3 = read(hiddenunits3, \"BA_Z3\")\n",
    "#imageset = hiddenimages[1:11, :]\n",
    "\n",
    "function generate_set(images)\n",
    "    used = []\n",
    "    imageset = images[1, :]\n",
    "    push!(used, trainlabel(1))\n",
    "    i = 2\n",
    "    while length(used) < 10 \n",
    "        if !(trainlabel(i) in used)\n",
    "            print(trainlabel(i))\n",
    "            imageset = [imageset images[i, :]]\n",
    "            push!(used, trainlabel(i))\n",
    "        end\n",
    "        i += 1\n",
    "    end\n",
    "    return imageset.'\n",
    "end\n",
    "\n",
    "function calcprecision(image_set::Array)\n",
    "    tot = 0\n",
    "    lowest = 300\n",
    "    highest = 0\n",
    "    for i in 1:size(image_set, 1)\n",
    "        test = image_set[i, :]\n",
    "        test_copy = copy(test)\n",
    "        test = findattractor(W, test)\n",
    "        current = hamming(test, test_copy)\n",
    "        lowest = min(lowest, current)\n",
    "        highest = max(highest, current)\n",
    "        tot += current\n",
    "    end\n",
    "    avg = tot / size(image_set, 1)\n",
    "    \n",
    "    return (avg, lowest, highest)\n",
    "end\n",
    "\n",
    "imageset = generate_set(hiddenimages2)\n",
    "\n",
    "W = store(imageset)\n",
    "\n",
    "for i = 1:size(imageset, 1)\n",
    "    test_vec = imageset[i, :]\n",
    "    temp = copy(test_vec)\n",
    "    test_vec = findattractor(W, test_vec)\n",
    "    print(hamming(test_vec, temp))\n",
    "    print(\" \")\n",
    "end\n",
    "print(\"   |    \")\n",
    "\n",
    "#W = store(pixel_digits)\n",
    "\n",
    "#for i = 1:size(pixel_digits, 1)\n",
    "#    test_vec = pixel_digits[i, :]\n",
    " #   temp = copy(test_vec)\n",
    "  #  test_vec = findattractor(W, test_vec)\n",
    "   # print(hamming(test_vec, temp))\n",
    "    #print(\" \")\n",
    "#end\n",
    "\n",
    "\n",
    "#printattractor(findattractor(W, new_test))\n",
    "#trainlabel(201)\n",
    "function closest(n, imageset)\n",
    "    temp = hiddenimages2[n, :]\n",
    "    W = store(imageset)\n",
    "    test = findattractor(W, temp)\n",
    "    for i = 1:10\n",
    "        print(hamming(test, hiddenimages2[i, :]))\n",
    "        print(\"  \")\n",
    "    end\n",
    "end\n",
    "closest(97, imageset)"
   ]
  },
  {
   "cell_type": "code",
   "execution_count": 55,
   "metadata": {
    "collapsed": false
   },
   "outputs": [
    {
     "name": "stderr",
     "output_type": "stream",
     "text": [
      "WARNING: Method definition capacity(Any, Any) in module Main at In[11]:2 overwritten at In[55]:2.\n",
      "WARNING: Method definition capacityavg(Any, Any) in module Main at In[11]:14 overwritten at In[55]:14.\n"
     ]
    },
    {
     "ename": "LoadError",
     "evalue": "MethodError: no method matching convertbool(::Float64)\u001b[0m\nClosest candidates are:\n  convertbool(\u001b[1m\u001b[31m::Bool\u001b[0m) at In[51]:14\u001b[0m",
     "output_type": "error",
     "traceback": [
      "MethodError: no method matching convertbool(::Float64)\u001b[0m\nClosest candidates are:\n  convertbool(\u001b[1m\u001b[31m::Bool\u001b[0m) at In[51]:14\u001b[0m",
      "",
      " in store(::Array{Float64,2}) at ./In[51]:45",
      " in capacity(::Array{Float64,2}, ::Int64) at ./In[55]:3"
     ]
    }
   ],
   "source": [
    "function capacity(images, n)\n",
    "    set = images[1:n, :]\n",
    "    W = store(set)\n",
    "    for i = 1:size(set, 1)\n",
    "        test_vec = set[i, :]\n",
    "        temp = copy(test_vec)\n",
    "        test_vec = findattractor(W, test_vec)\n",
    "        print(hamming(test_vec, temp))\n",
    "        print(\"  \")\n",
    "    end\n",
    "end\n",
    "\n",
    "function capacityavg(images, n)\n",
    "    set = images[1:n, :]\n",
    "    W = store(set)\n",
    "    tot = 0\n",
    "    for i = 1:size(set, 1)\n",
    "        test_vec = set[i, :]\n",
    "        temp = copy(test_vec)\n",
    "        test_vec = findattractor(W, test_vec)\n",
    "        tot += hamming(test_vec, temp)\n",
    "    end\n",
    "    return tot / n\n",
    "end\n",
    "\n",
    "capacity(hiddenimages, 7)\n",
    "print(\"  |  \")\n",
    "capacity(constructmem(10), 2)"
   ]
  },
  {
   "cell_type": "code",
   "execution_count": 182,
   "metadata": {
    "collapsed": false
   },
   "outputs": [
    {
     "name": "stderr",
     "output_type": "stream",
     "text": [
      "\u001b[1m\u001b[34mINFO: Nothing to be done\n",
      "\u001b[0m\u001b[1m\u001b[34mINFO: METADATA is out-of-date — you may not have the latest version of Gadfly\n",
      "\u001b[0m\u001b[1m\u001b[34mINFO: Use `Pkg.update()` to get the latest versions of your packages\n",
      "\u001b[0m"
     ]
    },
    {
     "ename": "LoadError",
     "evalue": "UndefVarError: plot not defined",
     "output_type": "error",
     "traceback": [
      "UndefVarError: plot not defined",
      ""
     ]
    }
   ],
   "source": [
    "Pkg.add(\"Gadfly\")\n",
    "using Gadfly\n",
    "plot(x = 1:3, y = [1 2 3])"
   ]
  },
  {
   "cell_type": "code",
   "execution_count": 54,
   "metadata": {
    "collapsed": false
   },
   "outputs": [
    {
     "name": "stderr",
     "output_type": "stream",
     "text": [
      "WARNING: Method definition gencapacitydata(Any, Any, Any) in module Main at In[12]:2 overwritten at In[54]:2.\n"
     ]
    },
    {
     "ename": "LoadError",
     "evalue": "MethodError: no method matching convertbool(::Float64)\u001b[0m\nClosest candidates are:\n  convertbool(\u001b[1m\u001b[31m::Bool\u001b[0m) at In[51]:14\u001b[0m",
     "output_type": "error",
     "traceback": [
      "MethodError: no method matching convertbool(::Float64)\u001b[0m\nClosest candidates are:\n  convertbool(\u001b[1m\u001b[31m::Bool\u001b[0m) at In[51]:14\u001b[0m",
      "",
      " in store(::Array{Float64,2}) at ./In[51]:45",
      " in capacityavg(::Array{Float64,2}, ::Int64) at ./In[11]:15",
      " in gencapacitydata(::Array{Float64,2}, ::Int64, ::Int64) at ./In[54]:4"
     ]
    }
   ],
   "source": [
    "function gencapacitydata(images, n, scale)\n",
    "    data = []\n",
    "    for i = 1:n\n",
    "        pt = capacityavg(images, i) / scale\n",
    "        push!(data, pt)\n",
    "    end\n",
    "    return data\n",
    "end\n",
    "mnistmems = constructmem(50)\n",
    "print(gencapacitydata(hiddenimages, 50, 100))"
   ]
  },
  {
   "cell_type": "code",
   "execution_count": 113,
   "metadata": {
    "collapsed": false
   },
   "outputs": [
    {
     "name": "stdout",
     "output_type": "stream",
     "text": [
      "0.5 0.24999998054641848"
     ]
    }
   ],
   "source": [
    "print(mean(hiddenimages3[12, :]), \" \", var(hiddenimages3))"
   ]
  },
  {
   "cell_type": "code",
   "execution_count": 110,
   "metadata": {
    "collapsed": false
   },
   "outputs": [
    {
     "data": {
      "text/plain": [
       "0.25082497212932003"
      ]
     },
     "execution_count": 110,
     "metadata": {},
     "output_type": "execute_result"
    }
   ],
   "source": [
    "cov(hiddenimages2[12, :], hiddenimages2[12, :])"
   ]
  },
  {
   "cell_type": "code",
   "execution_count": 60,
   "metadata": {
    "collapsed": false
   },
   "outputs": [
    {
     "data": {
      "text/plain": [
       "785-element Array{Any,1}:\n",
       " false\n",
       " false\n",
       " false\n",
       " false\n",
       " false\n",
       " false\n",
       " false\n",
       " false\n",
       " false\n",
       " false\n",
       " false\n",
       " false\n",
       " false\n",
       "     ⋮\n",
       " false\n",
       " false\n",
       " false\n",
       " false\n",
       " false\n",
       " false\n",
       " false\n",
       " false\n",
       " false\n",
       " false\n",
       " false\n",
       "  true"
      ]
     },
     "execution_count": 60,
     "metadata": {},
     "output_type": "execute_result"
    }
   ],
   "source": [
    "mnistmems[1, :]"
   ]
  },
  {
   "cell_type": "code",
   "execution_count": 93,
   "metadata": {
    "collapsed": false
   },
   "outputs": [
    {
     "name": "stdout",
     "output_type": "stream",
     "text": [
      "0.04.01.09.02.03.06.07.08.0"
     ]
    },
    {
     "name": "stderr",
     "output_type": "stream",
     "text": [
      "WARNING: Method definition generate_set_with_labels(Any) in module Main at In[92]:2 overwritten at In[93]:2.\n",
      "WARNING: Method definition classify(Any, Any, Any, Any) in module Main at In[92]:20 overwritten at In[93]:20.\n",
      "WARNING: Method definition classify_multiple(Any, Any, Any) in module Main at In[92]:33 overwritten at In[93]:33.\n"
     ]
    },
    {
     "data": {
      "text/plain": [
       "31-element Array{Any,1}:\n",
       " (0.0,3.0)\n",
       " (1.0,3.0)\n",
       " (0.0,0.0)\n",
       " (0.0,7.0)\n",
       " (1.0,4.0)\n",
       " (0.0,9.0)\n",
       " (1.0,8.0)\n",
       " (0.0,0.0)\n",
       " (1.0,9.0)\n",
       " (0.0,4.0)\n",
       " (1.0,1.0)\n",
       " (0.0,4.0)\n",
       " (1.0,4.0)\n",
       " ⋮        \n",
       " (1.0,0.0)\n",
       " (0.0,0.0)\n",
       " (1.0,1.0)\n",
       " (1.0,7.0)\n",
       " (1.0,1.0)\n",
       " (1.0,6.0)\n",
       " (0.0,3.0)\n",
       " (0.0,0.0)\n",
       " (1.0,2.0)\n",
       " (1.0,1.0)\n",
       " (1.0,1.0)\n",
       " (1.0,7.0)"
      ]
     },
     "execution_count": 93,
     "metadata": {},
     "output_type": "execute_result"
    }
   ],
   "source": [
    "function generate_set_with_labels(images)\n",
    "    used = []\n",
    "    imageset = images[1, :]\n",
    "    push!(used, trainlabel(1))\n",
    "    i = 2\n",
    "    while length(used) < 10 \n",
    "        if !(trainlabel(i) in used)\n",
    "            print(trainlabel(i))\n",
    "            imageset = [imageset images[i, :]]\n",
    "            push!(used, trainlabel(i))\n",
    "        end\n",
    "        i += 1\n",
    "    end\n",
    "    return [imageset.', used]\n",
    "end\n",
    "\n",
    "function classify(image, image_subset, labels, weights)\n",
    "    \n",
    "    \n",
    "    attractor = findattractor(weights, image)\n",
    "    min_differences = 1000\n",
    "    best = 0\n",
    "    for i in 1:10\n",
    "        if hamming(image_subset[i, :], attractor) < min_differences\n",
    "            best = labels[i]\n",
    "            min_differences = hamming(image_subset[i, :], attractor)\n",
    "        end\n",
    "    end\n",
    "    return best\n",
    "end\n",
    "\n",
    "function classify_multiple(images, start, last)\n",
    "    pairs = []\n",
    "    generated = generate_set_with_labels(images)\n",
    "    image_subset = generated[1]\n",
    "    labels = generated[2]\n",
    "    weights = store(images)\n",
    "    pair = 0\n",
    "    for i in start:last\n",
    "        guess = classify(images[i, :], image_subset, labels, weights)\n",
    "        pair = (guess, trainlabel(i))\n",
    "        push!(pairs, pair)\n",
    "    end\n",
    "    return pairs\n",
    "end\n",
    "    \n",
    "\n",
    "#classify(hiddenimages3[300, :], 1)\n",
    "classify_multiple(hiddenimages3, 50, 80)"
   ]
  },
  {
   "cell_type": "code",
   "execution_count": 109,
   "metadata": {
    "collapsed": false
   },
   "outputs": [
    {
     "name": "stdout",
     "output_type": "stream",
     "text": [
      "0: "
     ]
    },
    {
     "name": "stderr",
     "output_type": "stream",
     "text": [
      "WARNING: Method definition num_digits(Any) in module Main at In[108]:2 overwritten at In[109]:2.\n",
      "WARNING: Method definition digits_in_set() in module Main at In[108]:14 overwritten at In[109]:14.\n"
     ]
    },
    {
     "name": "stdout",
     "output_type": "stream",
     "text": [
      "191\n",
      "1: 220\n",
      "2: 198\n",
      "3: 191\n",
      "4: 214\n",
      "5: 180\n",
      "6: 200\n",
      "7: 224\n",
      "8: 172\n",
      "9: 210\n"
     ]
    }
   ],
   "source": [
    "function num_digits(n)\n",
    "    seen = 0\n",
    "    for i = 1:2000\n",
    "        if trainlabel(i) == n\n",
    "            seen += 1\n",
    "        end\n",
    "    end\n",
    "    return seen\n",
    "end\n",
    "\n",
    "num_digits(5)\n",
    "    \n",
    "function digits_in_set()\n",
    "    for i = 0:9\n",
    "        print(i)\n",
    "        print(\": \")\n",
    "        print(num_digits(i))\n",
    "        print(\"\\n\")\n",
    "    end\n",
    "end\n",
    "digits_in_set()"
   ]
  },
  {
   "cell_type": "code",
   "execution_count": null,
   "metadata": {
    "collapsed": true
   },
   "outputs": [],
   "source": []
  }
 ],
 "metadata": {
  "kernelspec": {
   "display_name": "Julia 0.5.0",
   "language": "julia",
   "name": "julia-0.5"
  },
  "language_info": {
   "file_extension": ".jl",
   "mimetype": "application/julia",
   "name": "julia",
   "version": "0.5.0"
  }
 },
 "nbformat": 4,
 "nbformat_minor": 2
}
